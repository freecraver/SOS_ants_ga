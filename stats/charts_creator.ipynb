{
 "cells": [
  {
   "cell_type": "code",
   "execution_count": null,
   "metadata": {},
   "outputs": [],
   "source": [
    "!jupyter lab build"
   ]
  },
  {
   "cell_type": "code",
   "execution_count": 19,
   "metadata": {},
   "outputs": [],
   "source": [
    "import pandas as pd\n",
    "import plotly.express as px\n",
    "import plotly.graph_objects as go\n",
    "import plotly.io as pio\n",
    "import math\n",
    "\n",
    "pio.templates.default = \"ggplot2\"\n",
    "\n",
    "KNAPSACK_PATH_SMALL = \"../knapsack/stats/low-dimensional_run11-20_23_50_19.csv\"\n",
    "KNAPSACK_PATH_LARGE = \"../knapsack/stats/large_scale_run11-21_00_02_51.csv\"\n",
    "KNAPSACK_PATH_PARAM_EVAL = \"../knapsack/stats/large_scale_only_ga_1000_100.csv\""
   ]
  },
  {
   "cell_type": "code",
   "execution_count": 2,
   "metadata": {},
   "outputs": [
    {
     "data": {
      "text/html": [
       "<div>\n",
       "<style scoped>\n",
       "    .dataframe tbody tr th:only-of-type {\n",
       "        vertical-align: middle;\n",
       "    }\n",
       "\n",
       "    .dataframe tbody tr th {\n",
       "        vertical-align: top;\n",
       "    }\n",
       "\n",
       "    .dataframe thead th {\n",
       "        text-align: right;\n",
       "    }\n",
       "</style>\n",
       "<table border=\"1\" class=\"dataframe\">\n",
       "  <thead>\n",
       "    <tr style=\"text-align: right;\">\n",
       "      <th></th>\n",
       "      <th>execution_time</th>\n",
       "      <th>instance</th>\n",
       "      <th>method</th>\n",
       "      <th>run</th>\n",
       "      <th>value</th>\n",
       "    </tr>\n",
       "  </thead>\n",
       "  <tbody>\n",
       "    <tr>\n",
       "      <th>0</th>\n",
       "      <td>0.501020</td>\n",
       "      <td>f10_l-d_kp_20_879</td>\n",
       "      <td>GA</td>\n",
       "      <td>1</td>\n",
       "      <td>824.0</td>\n",
       "    </tr>\n",
       "    <tr>\n",
       "      <th>1</th>\n",
       "      <td>0.011977</td>\n",
       "      <td>f10_l-d_kp_20_879</td>\n",
       "      <td>ACO</td>\n",
       "      <td>1</td>\n",
       "      <td>1025.0</td>\n",
       "    </tr>\n",
       "    <tr>\n",
       "      <th>2</th>\n",
       "      <td>0.721012</td>\n",
       "      <td>f10_l-d_kp_20_879</td>\n",
       "      <td>GA</td>\n",
       "      <td>2</td>\n",
       "      <td>895.0</td>\n",
       "    </tr>\n",
       "    <tr>\n",
       "      <th>3</th>\n",
       "      <td>0.012010</td>\n",
       "      <td>f10_l-d_kp_20_879</td>\n",
       "      <td>ACO</td>\n",
       "      <td>2</td>\n",
       "      <td>1025.0</td>\n",
       "    </tr>\n",
       "    <tr>\n",
       "      <th>4</th>\n",
       "      <td>0.579978</td>\n",
       "      <td>f10_l-d_kp_20_879</td>\n",
       "      <td>GA</td>\n",
       "      <td>3</td>\n",
       "      <td>876.0</td>\n",
       "    </tr>\n",
       "  </tbody>\n",
       "</table>\n",
       "</div>"
      ],
      "text/plain": [
       "   execution_time           instance method  run   value\n",
       "0        0.501020  f10_l-d_kp_20_879     GA    1   824.0\n",
       "1        0.011977  f10_l-d_kp_20_879    ACO    1  1025.0\n",
       "2        0.721012  f10_l-d_kp_20_879     GA    2   895.0\n",
       "3        0.012010  f10_l-d_kp_20_879    ACO    2  1025.0\n",
       "4        0.579978  f10_l-d_kp_20_879     GA    3   876.0"
      ]
     },
     "execution_count": 2,
     "metadata": {},
     "output_type": "execute_result"
    }
   ],
   "source": [
    "df_ks_small = pd.read_csv(KNAPSACK_PATH_SMALL)\n",
    "df_ks_small.head()"
   ]
  },
  {
   "cell_type": "code",
   "execution_count": 3,
   "metadata": {},
   "outputs": [
    {
     "data": {
      "text/html": [
       "<div>\n",
       "<style scoped>\n",
       "    .dataframe tbody tr th:only-of-type {\n",
       "        vertical-align: middle;\n",
       "    }\n",
       "\n",
       "    .dataframe tbody tr th {\n",
       "        vertical-align: top;\n",
       "    }\n",
       "\n",
       "    .dataframe thead th {\n",
       "        text-align: right;\n",
       "    }\n",
       "</style>\n",
       "<table border=\"1\" class=\"dataframe\">\n",
       "  <thead>\n",
       "    <tr style=\"text-align: right;\">\n",
       "      <th></th>\n",
       "      <th>execution_time</th>\n",
       "      <th>instance</th>\n",
       "      <th>method</th>\n",
       "      <th>run</th>\n",
       "      <th>value</th>\n",
       "    </tr>\n",
       "  </thead>\n",
       "  <tbody>\n",
       "    <tr>\n",
       "      <th>0</th>\n",
       "      <td>0.443977</td>\n",
       "      <td>knapPI_1_10000_1000_1</td>\n",
       "      <td>GA</td>\n",
       "      <td>1</td>\n",
       "      <td>9299.0</td>\n",
       "    </tr>\n",
       "    <tr>\n",
       "      <th>1</th>\n",
       "      <td>20.579006</td>\n",
       "      <td>knapPI_1_10000_1000_1</td>\n",
       "      <td>ACO</td>\n",
       "      <td>1</td>\n",
       "      <td>159601.0</td>\n",
       "    </tr>\n",
       "    <tr>\n",
       "      <th>2</th>\n",
       "      <td>0.496994</td>\n",
       "      <td>knapPI_1_10000_1000_1</td>\n",
       "      <td>GA</td>\n",
       "      <td>2</td>\n",
       "      <td>12655.0</td>\n",
       "    </tr>\n",
       "    <tr>\n",
       "      <th>3</th>\n",
       "      <td>21.899024</td>\n",
       "      <td>knapPI_1_10000_1000_1</td>\n",
       "      <td>ACO</td>\n",
       "      <td>2</td>\n",
       "      <td>159127.0</td>\n",
       "    </tr>\n",
       "    <tr>\n",
       "      <th>4</th>\n",
       "      <td>0.416978</td>\n",
       "      <td>knapPI_1_10000_1000_1</td>\n",
       "      <td>GA</td>\n",
       "      <td>3</td>\n",
       "      <td>13554.0</td>\n",
       "    </tr>\n",
       "  </tbody>\n",
       "</table>\n",
       "</div>"
      ],
      "text/plain": [
       "   execution_time               instance method  run     value\n",
       "0        0.443977  knapPI_1_10000_1000_1     GA    1    9299.0\n",
       "1       20.579006  knapPI_1_10000_1000_1    ACO    1  159601.0\n",
       "2        0.496994  knapPI_1_10000_1000_1     GA    2   12655.0\n",
       "3       21.899024  knapPI_1_10000_1000_1    ACO    2  159127.0\n",
       "4        0.416978  knapPI_1_10000_1000_1     GA    3   13554.0"
      ]
     },
     "execution_count": 3,
     "metadata": {},
     "output_type": "execute_result"
    }
   ],
   "source": [
    "df_ks_large = pd.read_csv(KNAPSACK_PATH_LARGE)\n",
    "df_ks_large.head()"
   ]
  },
  {
   "cell_type": "code",
   "execution_count": 24,
   "metadata": {},
   "outputs": [
    {
     "data": {
      "text/html": [
       "<div>\n",
       "<style scoped>\n",
       "    .dataframe tbody tr th:only-of-type {\n",
       "        vertical-align: middle;\n",
       "    }\n",
       "\n",
       "    .dataframe tbody tr th {\n",
       "        vertical-align: top;\n",
       "    }\n",
       "\n",
       "    .dataframe thead th {\n",
       "        text-align: right;\n",
       "    }\n",
       "</style>\n",
       "<table border=\"1\" class=\"dataframe\">\n",
       "  <thead>\n",
       "    <tr style=\"text-align: right;\">\n",
       "      <th></th>\n",
       "      <th>execution_time</th>\n",
       "      <th>instance</th>\n",
       "      <th>method</th>\n",
       "      <th>run</th>\n",
       "      <th>value</th>\n",
       "    </tr>\n",
       "  </thead>\n",
       "  <tbody>\n",
       "    <tr>\n",
       "      <th>0</th>\n",
       "      <td>35.457986</td>\n",
       "      <td>knapPI_1_10000_1000_1</td>\n",
       "      <td>GA</td>\n",
       "      <td>1</td>\n",
       "      <td>83020.0</td>\n",
       "    </tr>\n",
       "    <tr>\n",
       "      <th>1</th>\n",
       "      <td>31.552991</td>\n",
       "      <td>knapPI_1_10000_1000_1</td>\n",
       "      <td>GA</td>\n",
       "      <td>2</td>\n",
       "      <td>90800.0</td>\n",
       "    </tr>\n",
       "    <tr>\n",
       "      <th>2</th>\n",
       "      <td>34.135007</td>\n",
       "      <td>knapPI_1_10000_1000_1</td>\n",
       "      <td>GA</td>\n",
       "      <td>3</td>\n",
       "      <td>90486.0</td>\n",
       "    </tr>\n",
       "    <tr>\n",
       "      <th>3</th>\n",
       "      <td>31.755994</td>\n",
       "      <td>knapPI_1_10000_1000_1</td>\n",
       "      <td>GA</td>\n",
       "      <td>4</td>\n",
       "      <td>90309.0</td>\n",
       "    </tr>\n",
       "    <tr>\n",
       "      <th>4</th>\n",
       "      <td>39.041010</td>\n",
       "      <td>knapPI_1_10000_1000_1</td>\n",
       "      <td>GA</td>\n",
       "      <td>5</td>\n",
       "      <td>87001.0</td>\n",
       "    </tr>\n",
       "  </tbody>\n",
       "</table>\n",
       "</div>"
      ],
      "text/plain": [
       "   execution_time               instance method  run    value\n",
       "0       35.457986  knapPI_1_10000_1000_1     GA    1  83020.0\n",
       "1       31.552991  knapPI_1_10000_1000_1     GA    2  90800.0\n",
       "2       34.135007  knapPI_1_10000_1000_1     GA    3  90486.0\n",
       "3       31.755994  knapPI_1_10000_1000_1     GA    4  90309.0\n",
       "4       39.041010  knapPI_1_10000_1000_1     GA    5  87001.0"
      ]
     },
     "execution_count": 24,
     "metadata": {},
     "output_type": "execute_result"
    }
   ],
   "source": [
    "df_ks_ga_eval = pd.read_csv(KNAPSACK_PATH_PARAM_EVAL)\n",
    "df_ks_ga_eval.head()"
   ]
  },
  {
   "cell_type": "code",
   "execution_count": 25,
   "metadata": {},
   "outputs": [
    {
     "data": {
      "text/html": [
       "<div>\n",
       "<style scoped>\n",
       "    .dataframe tbody tr th:only-of-type {\n",
       "        vertical-align: middle;\n",
       "    }\n",
       "\n",
       "    .dataframe tbody tr th {\n",
       "        vertical-align: top;\n",
       "    }\n",
       "\n",
       "    .dataframe thead th {\n",
       "        text-align: right;\n",
       "    }\n",
       "</style>\n",
       "<table border=\"1\" class=\"dataframe\">\n",
       "  <thead>\n",
       "    <tr style=\"text-align: right;\">\n",
       "      <th></th>\n",
       "      <th>count</th>\n",
       "      <th>mean</th>\n",
       "      <th>std</th>\n",
       "      <th>min</th>\n",
       "      <th>25%</th>\n",
       "      <th>50%</th>\n",
       "      <th>75%</th>\n",
       "      <th>max</th>\n",
       "    </tr>\n",
       "    <tr>\n",
       "      <th>method</th>\n",
       "      <th></th>\n",
       "      <th></th>\n",
       "      <th></th>\n",
       "      <th></th>\n",
       "      <th></th>\n",
       "      <th></th>\n",
       "      <th></th>\n",
       "      <th></th>\n",
       "    </tr>\n",
       "  </thead>\n",
       "  <tbody>\n",
       "    <tr>\n",
       "      <th>ACO</th>\n",
       "      <td>100.0</td>\n",
       "      <td>0.005080</td>\n",
       "      <td>0.005155</td>\n",
       "      <td>0.00000</td>\n",
       "      <td>0.001001</td>\n",
       "      <td>0.002985</td>\n",
       "      <td>0.009003</td>\n",
       "      <td>0.031996</td>\n",
       "    </tr>\n",
       "    <tr>\n",
       "      <th>GA</th>\n",
       "      <td>100.0</td>\n",
       "      <td>0.547759</td>\n",
       "      <td>0.273270</td>\n",
       "      <td>0.31498</td>\n",
       "      <td>0.352977</td>\n",
       "      <td>0.481518</td>\n",
       "      <td>0.579229</td>\n",
       "      <td>1.448007</td>\n",
       "    </tr>\n",
       "  </tbody>\n",
       "</table>\n",
       "</div>"
      ],
      "text/plain": [
       "        count      mean       std      min       25%       50%       75%       max\n",
       "method                                                                            \n",
       "ACO     100.0  0.005080  0.005155  0.00000  0.001001  0.002985  0.009003  0.031996\n",
       "GA      100.0  0.547759  0.273270  0.31498  0.352977  0.481518  0.579229  1.448007"
      ]
     },
     "execution_count": 25,
     "metadata": {},
     "output_type": "execute_result"
    }
   ],
   "source": [
    "df_ks_small.groupby('method').describe()['execution_time']"
   ]
  },
  {
   "cell_type": "code",
   "execution_count": 26,
   "metadata": {},
   "outputs": [
    {
     "data": {
      "text/html": [
       "<div>\n",
       "<style scoped>\n",
       "    .dataframe tbody tr th:only-of-type {\n",
       "        vertical-align: middle;\n",
       "    }\n",
       "\n",
       "    .dataframe tbody tr th {\n",
       "        vertical-align: top;\n",
       "    }\n",
       "\n",
       "    .dataframe thead th {\n",
       "        text-align: right;\n",
       "    }\n",
       "</style>\n",
       "<table border=\"1\" class=\"dataframe\">\n",
       "  <thead>\n",
       "    <tr style=\"text-align: right;\">\n",
       "      <th></th>\n",
       "      <th>count</th>\n",
       "      <th>mean</th>\n",
       "      <th>std</th>\n",
       "      <th>min</th>\n",
       "      <th>25%</th>\n",
       "      <th>50%</th>\n",
       "      <th>75%</th>\n",
       "      <th>max</th>\n",
       "    </tr>\n",
       "    <tr>\n",
       "      <th>method</th>\n",
       "      <th></th>\n",
       "      <th></th>\n",
       "      <th></th>\n",
       "      <th></th>\n",
       "      <th></th>\n",
       "      <th></th>\n",
       "      <th></th>\n",
       "      <th></th>\n",
       "    </tr>\n",
       "  </thead>\n",
       "  <tbody>\n",
       "    <tr>\n",
       "      <th>ACO</th>\n",
       "      <td>210.0</td>\n",
       "      <td>2.533861</td>\n",
       "      <td>5.080322</td>\n",
       "      <td>0.002975</td>\n",
       "      <td>0.011006</td>\n",
       "      <td>0.138996</td>\n",
       "      <td>2.282504</td>\n",
       "      <td>21.899024</td>\n",
       "    </tr>\n",
       "    <tr>\n",
       "      <th>GA</th>\n",
       "      <td>210.0</td>\n",
       "      <td>0.606896</td>\n",
       "      <td>0.238037</td>\n",
       "      <td>0.287999</td>\n",
       "      <td>0.402769</td>\n",
       "      <td>0.494994</td>\n",
       "      <td>0.829756</td>\n",
       "      <td>1.437018</td>\n",
       "    </tr>\n",
       "  </tbody>\n",
       "</table>\n",
       "</div>"
      ],
      "text/plain": [
       "        count      mean       std       min       25%       50%       75%        max\n",
       "method                                                                              \n",
       "ACO     210.0  2.533861  5.080322  0.002975  0.011006  0.138996  2.282504  21.899024\n",
       "GA      210.0  0.606896  0.238037  0.287999  0.402769  0.494994  0.829756   1.437018"
      ]
     },
     "execution_count": 26,
     "metadata": {},
     "output_type": "execute_result"
    }
   ],
   "source": [
    "df_ks_large.groupby('method').describe()['execution_time']"
   ]
  },
  {
   "cell_type": "code",
   "execution_count": 27,
   "metadata": {},
   "outputs": [
    {
     "data": {
      "text/plain": [
       "count    210.000000\n",
       "mean      41.759311\n",
       "std       23.323456\n",
       "min       10.474024\n",
       "25%       22.143267\n",
       "50%       34.788008\n",
       "75%       60.290999\n",
       "max       98.074002\n",
       "Name: execution_time, dtype: float64"
      ]
     },
     "execution_count": 27,
     "metadata": {},
     "output_type": "execute_result"
    }
   ],
   "source": [
    "df_ks_ga_eval.describe()['execution_time']"
   ]
  },
  {
   "cell_type": "code",
   "execution_count": 6,
   "metadata": {},
   "outputs": [
    {
     "data": {
      "application/vnd.jupyter.widget-view+json": {
       "model_id": "a0c66dc72cd84b4db98ed53ae99e846d",
       "version_major": 2,
       "version_minor": 0
      },
      "text/plain": [
       "FigureWidget({\n",
       "    'data': [{'alignmentgroup': 'True',\n",
       "              'hoverlabel': {'namelength': 0},\n",
       "        …"
      ]
     },
     "metadata": {},
     "output_type": "display_data"
    }
   ],
   "source": [
    "fig = px.box(df_ks_small, x='instance', y='value', color='method')\n",
    "go.FigureWidget(fig)"
   ]
  },
  {
   "cell_type": "code",
   "execution_count": 7,
   "metadata": {},
   "outputs": [
    {
     "data": {
      "application/vnd.jupyter.widget-view+json": {
       "model_id": "f1465d2fcd0840d9ac5da65b23a8b0f0",
       "version_major": 2,
       "version_minor": 0
      },
      "text/plain": [
       "FigureWidget({\n",
       "    'data': [{'alignmentgroup': 'True',\n",
       "              'hoverlabel': {'namelength': 0},\n",
       "        …"
      ]
     },
     "metadata": {},
     "output_type": "display_data"
    }
   ],
   "source": [
    "fig = px.box(df_ks_small, x='instance', y='execution_time', color='method')\n",
    "go.FigureWidget(fig)"
   ]
  },
  {
   "cell_type": "code",
   "execution_count": 8,
   "metadata": {},
   "outputs": [
    {
     "data": {
      "application/vnd.jupyter.widget-view+json": {
       "model_id": "9ac7035017d34484b17503b3995c2935",
       "version_major": 2,
       "version_minor": 0
      },
      "text/plain": [
       "FigureWidget({\n",
       "    'data': [{'alignmentgroup': 'True',\n",
       "              'hoverlabel': {'namelength': 0},\n",
       "        …"
      ]
     },
     "metadata": {},
     "output_type": "display_data"
    }
   ],
   "source": [
    "fig = px.box(df_ks_large, x='instance', y='value', color='method')\n",
    "go.FigureWidget(fig)"
   ]
  },
  {
   "cell_type": "code",
   "execution_count": 9,
   "metadata": {},
   "outputs": [
    {
     "data": {
      "application/vnd.jupyter.widget-view+json": {
       "model_id": "29f665ac2f3e4d4fae7907ae17469abf",
       "version_major": 2,
       "version_minor": 0
      },
      "text/plain": [
       "FigureWidget({\n",
       "    'data': [{'alignmentgroup': 'True',\n",
       "              'hoverlabel': {'namelength': 0},\n",
       "        …"
      ]
     },
     "metadata": {},
     "output_type": "display_data"
    }
   ],
   "source": [
    "fig = px.box(df_ks_large, x='instance', y='execution_time', color='method')\n",
    "go.FigureWidget(fig)"
   ]
  },
  {
   "cell_type": "markdown",
   "metadata": {},
   "source": [
    "### Print 95% confidence intervals per setting"
   ]
  },
  {
   "cell_type": "code",
   "execution_count": 10,
   "metadata": {},
   "outputs": [],
   "source": [
    "def print_stats(df, metric):\n",
    "    count_tries = df['run'].max()\n",
    "    stats = df.groupby(['instance', 'method'])[metric].agg(['mean', 'std'])\n",
    "    ci95_hi = []\n",
    "    ci95_lo = []\n",
    "\n",
    "    for i in stats.index:\n",
    "        m, s = stats.loc[i]\n",
    "        ci95_hi.append(m + 1.96*s/math.sqrt(count_tries))\n",
    "        ci95_lo.append(m - 1.96*s/math.sqrt(count_tries))\n",
    "\n",
    "    stats['ci95_lo'] = ci95_lo\n",
    "    stats['ci95_hi'] = ci95_hi\n",
    "    print(stats)"
   ]
  },
  {
   "cell_type": "markdown",
   "metadata": {},
   "source": [
    "### Value Small instances"
   ]
  },
  {
   "cell_type": "code",
   "execution_count": 11,
   "metadata": {},
   "outputs": [
    {
     "name": "stdout",
     "output_type": "stream",
     "text": [
      "                                  mean           std      ci95_lo      ci95_hi\n",
      "instance           method                                                     \n",
      "f10_l-d_kp_20_879  ACO     1025.000000  0.000000e+00  1025.000000  1025.000000\n",
      "                   GA       839.400000  6.061023e+01   801.833390   876.966610\n",
      "f1_l-d_kp_10_269   ACO      295.000000  0.000000e+00   295.000000   295.000000\n",
      "                   GA       294.900000  3.162278e-01   294.704000   295.096000\n",
      "f2_l-d_kp_20_878   ACO     1024.000000  0.000000e+00  1024.000000  1024.000000\n",
      "                   GA       864.600000  5.790644e+01   828.709218   900.490782\n",
      "f3_l-d_kp_4_20     ACO       35.000000  0.000000e+00    35.000000    35.000000\n",
      "                   GA        35.000000  0.000000e+00    35.000000    35.000000\n",
      "f4_l-d_kp_4_11     ACO       23.000000  0.000000e+00    23.000000    23.000000\n",
      "                   GA        23.000000  0.000000e+00    23.000000    23.000000\n",
      "f5_l-d_kp_15_375   ACO      481.069368  5.013118e-14   481.069368   481.069368\n",
      "                   GA       460.234687  1.837612e+01   448.845047   471.624326\n",
      "f6_l-d_kp_10_60    ACO       52.000000  0.000000e+00    52.000000    52.000000\n",
      "                   GA        52.000000  0.000000e+00    52.000000    52.000000\n",
      "f7_l-d_kp_7_50     ACO      107.000000  0.000000e+00   107.000000   107.000000\n",
      "                   GA       107.000000  0.000000e+00   107.000000   107.000000\n",
      "f8_l-d_kp_23_10000 ACO     9748.500000  4.600725e+00  9745.648441  9751.351559\n",
      "                   GA      9750.800000  9.425733e+00  9744.957870  9756.642130\n",
      "f9_l-d_kp_5_80     ACO      130.000000  0.000000e+00   130.000000   130.000000\n",
      "                   GA       130.000000  0.000000e+00   130.000000   130.000000\n"
     ]
    }
   ],
   "source": [
    "print_stats(df_ks_small, 'value')"
   ]
  },
  {
   "cell_type": "markdown",
   "metadata": {},
   "source": [
    "### Execution time small instances"
   ]
  },
  {
   "cell_type": "code",
   "execution_count": 12,
   "metadata": {},
   "outputs": [
    {
     "name": "stdout",
     "output_type": "stream",
     "text": [
      "                               mean       std   ci95_lo   ci95_hi\n",
      "instance           method                                        \n",
      "f10_l-d_kp_20_879  ACO     0.014299  0.006306  0.010391  0.018208\n",
      "                   GA      0.731501  0.377704  0.497398  0.965604\n",
      "f1_l-d_kp_10_269   ACO     0.002896  0.001523  0.001952  0.003840\n",
      "                   GA      0.528503  0.244740  0.376812  0.680194\n",
      "f2_l-d_kp_20_878   ACO     0.012001  0.001248  0.011228  0.012775\n",
      "                   GA      0.511101  0.038746  0.487086  0.535115\n",
      "f3_l-d_kp_4_20     ACO     0.000701  0.000484  0.000401  0.001000\n",
      "                   GA      0.337597  0.013620  0.329155  0.346038\n",
      "f4_l-d_kp_4_11     ACO     0.000900  0.000738  0.000443  0.001358\n",
      "                   GA      0.343800  0.037845  0.320343  0.367256\n",
      "f5_l-d_kp_15_375   ACO     0.005201  0.000416  0.004943  0.005458\n",
      "                   GA      0.523102  0.054384  0.489394  0.556809\n",
      "f6_l-d_kp_10_60    ACO     0.003100  0.000870  0.002561  0.003640\n",
      "                   GA      0.589200  0.017617  0.578281  0.600119\n",
      "f7_l-d_kp_7_50     ACO     0.001601  0.000515  0.001282  0.001920\n",
      "                   GA      0.414599  0.009709  0.408582  0.420617\n",
      "f8_l-d_kp_23_10000 ACO     0.009003  0.000653  0.008598  0.009407\n",
      "                   GA      1.152097  0.064699  1.111996  1.192198\n",
      "f9_l-d_kp_5_80     ACO     0.001100  0.000317  0.000904  0.001297\n",
      "                   GA      0.346095  0.015035  0.336776  0.355415\n"
     ]
    }
   ],
   "source": [
    "print_stats(df_ks_small, 'execution_time')"
   ]
  },
  {
   "cell_type": "markdown",
   "metadata": {},
   "source": [
    "### Value large instances"
   ]
  },
  {
   "cell_type": "code",
   "execution_count": 17,
   "metadata": {},
   "outputs": [],
   "source": [
    "pd.set_option(\"display.width\", 200)"
   ]
  },
  {
   "cell_type": "code",
   "execution_count": 18,
   "metadata": {},
   "outputs": [
    {
     "name": "stdout",
     "output_type": "stream",
     "text": [
      "                                  mean          std        ci95_lo        ci95_hi\n",
      "instance              method                                                     \n",
      "knapPI_1_10000_1000_1 ACO     163655.3  8759.853741  158225.886401  169084.713599\n",
      "                      GA       11704.2  1309.861469   10892.339451   12516.060549\n",
      "knapPI_1_1000_1000_1  ACO      21864.6  1224.986911   21105.345246   22623.854754\n",
      "                      GA       10720.3   849.433151   10193.815879   11246.784121\n",
      "knapPI_1_100_1000_1   ACO       7025.8   760.201114    6554.622468    7496.977532\n",
      "                      GA        4860.5   694.965107    4429.756164    5291.243836\n",
      "knapPI_1_2000_1000_1  ACO      37427.5  3026.648871   35551.563594   39303.436406\n",
      "                      GA       12214.3  1201.157409   11469.814925   12958.785075\n",
      "knapPI_1_200_1000_1   ACO       7240.4   984.848798    6629.984391    7850.815609\n",
      "                      GA        4778.0   783.752654    4292.225072    5263.774928\n",
      "knapPI_1_5000_1000_1  ACO      83847.7  2214.794450   82474.956178   85220.443822\n",
      "                      GA       11447.1  1176.541490   10717.872029   12176.327971\n",
      "knapPI_1_500_1000_1   ACO      14258.3  1544.724718   13300.869700   15215.730300\n",
      "                      GA        8042.1   589.987655    7676.421863    8407.778137\n",
      "knapPI_2_10000_1000_1 ACO      52432.9   358.241833   52210.859411   52654.940589\n",
      "                      GA       12406.0  1421.114586   11525.184054   13286.815946\n",
      "knapPI_2_1000_1000_1  ACO       5711.1   142.314558    5622.892523    5799.307477\n",
      "                      GA        5661.9    92.885174    5604.329173    5719.470827\n",
      "knapPI_2_100_1000_1   ACO       1195.0    55.529772    1160.582291    1229.417709\n",
      "                      GA        1272.5    38.451268    1248.667657    1296.332343\n",
      "knapPI_2_2000_1000_1  ACO      10986.7   229.294110   10844.582038   11128.817962\n",
      "                      GA       10590.7   204.293389   10464.077645   10717.322355\n",
      "knapPI_2_200_1000_1   ACO       1230.1    42.414489    1203.811227    1256.388773\n",
      "                      GA        1336.4    36.676362    1313.667755    1359.132245\n",
      "knapPI_2_5000_1000_1  ACO      26533.3   352.502183   26314.816884   26751.783116\n",
      "                      GA       13215.7  1379.965704   12360.388395   14071.011605\n",
      "knapPI_2_500_1000_1   ACO       3001.9    44.262977    2974.465523    3029.334477\n",
      "                      GA        3095.3    44.329699    3067.824168    3122.775832\n",
      "knapPI_3_10000_1000_1 ACO      62979.0   602.218122   62605.741341   63352.258659\n",
      "                      GA       15964.4  2051.470974   14692.885117   17235.914883\n",
      "knapPI_3_1000_1000_1  ACO       6979.3   119.753497    6905.076014    7053.523986\n",
      "                      GA        6580.6   151.964323    6486.411537    6674.788463\n",
      "knapPI_3_100_1000_1   ACO       1784.2   122.474306    1708.289639    1860.110361\n",
      "                      GA        1771.4    84.435643    1719.066246    1823.733754\n",
      "knapPI_3_2000_1000_1  ACO      13248.5   279.265803   13075.409262   13421.590738\n",
      "                      GA       11720.8   277.139676   11549.027049   11892.572951\n",
      "knapPI_3_200_1000_1   ACO       1834.0   181.931000    1721.237998    1946.762002\n",
      "                      GA        1788.5    73.177486    1743.144124    1833.855876\n",
      "knapPI_3_5000_1000_1  ACO      31945.0   195.505044   31823.824718   32066.175282\n",
      "                      GA       15032.9  1087.560108   14358.823261   15706.976739\n",
      "knapPI_3_500_1000_1   ACO       4004.5    99.176890    3943.029527    4065.970473\n",
      "                      GA        3765.3   108.359535    3698.138064    3832.461936\n"
     ]
    }
   ],
   "source": [
    "print_stats(df_ks_large, 'value')"
   ]
  },
  {
   "cell_type": "markdown",
   "metadata": {},
   "source": [
    "### Execution time large instances"
   ]
  },
  {
   "cell_type": "code",
   "execution_count": 14,
   "metadata": {},
   "outputs": [
    {
     "name": "stdout",
     "output_type": "stream",
     "text": [
      "                                   mean       std    ci95_lo    ci95_hi\n",
      "instance              method                                           \n",
      "knapPI_1_10000_1000_1 ACO     20.500704  0.821411  19.991589  21.009820\n",
      "                      GA       0.435094  0.036537   0.412448   0.457740\n",
      "knapPI_1_1000_1000_1  ACO      0.198798  0.010271   0.192432   0.205164\n",
      "                      GA       0.427804  0.021120   0.414714   0.440894\n",
      "knapPI_1_100_1000_1   ACO      0.005598  0.001265   0.004814   0.006383\n",
      "                      GA       0.315200  0.018179   0.303932   0.326467\n",
      "knapPI_1_2000_1000_1  ACO      0.745096  0.030271   0.726334   0.763859\n",
      "                      GA       0.440904  0.055015   0.406805   0.475003\n",
      "knapPI_1_200_1000_1   ACO      0.011604  0.001350   0.010767   0.012441\n",
      "                      GA       0.312799  0.016157   0.302785   0.322814\n",
      "knapPI_1_5000_1000_1  ACO      4.551605  0.140180   4.464721   4.638490\n",
      "                      GA       0.421597  0.021551   0.408240   0.434954\n",
      "knapPI_1_500_1000_1   ACO      0.058796  0.006249   0.054923   0.062670\n",
      "                      GA       0.371601  0.018511   0.360128   0.383074\n",
      "knapPI_2_10000_1000_1 ACO      9.294194  0.281590   9.119663   9.468726\n",
      "                      GA       0.904605  0.125758   0.826660   0.982551\n",
      "knapPI_2_1000_1000_1  ACO      0.117600  0.004012   0.115114   0.120087\n",
      "                      GA       0.744999  0.048557   0.714903   0.775095\n",
      "knapPI_2_100_1000_1   ACO      0.003096  0.000318   0.002899   0.003293\n",
      "                      GA       0.391402  0.006478   0.387387   0.395417\n",
      "knapPI_2_2000_1000_1  ACO      0.416102  0.013577   0.407687   0.424517\n",
      "                      GA       0.872698  0.067647   0.830770   0.914626\n",
      "knapPI_2_200_1000_1   ACO      0.006998  0.000817   0.006492   0.007504\n",
      "                      GA       0.402504  0.016108   0.392520   0.412488\n",
      "knapPI_2_5000_1000_1  ACO      2.260003  0.057862   2.224139   2.295866\n",
      "                      GA       0.882699  0.084989   0.830023   0.935375\n",
      "knapPI_2_500_1000_1   ACO      0.040797  0.024067   0.025880   0.055714\n",
      "                      GA       0.588201  0.040149   0.563316   0.613086\n",
      "knapPI_3_10000_1000_1 ACO     11.486399  0.246186  11.333811  11.638986\n",
      "                      GA       0.997403  0.161254   0.897457   1.097349\n",
      "knapPI_3_1000_1000_1  ACO      0.136895  0.007169   0.132452   0.141338\n",
      "                      GA       0.810805  0.040959   0.785419   0.836191\n",
      "knapPI_3_100_1000_1   ACO      0.004202  0.000793   0.003711   0.004694\n",
      "                      GA       0.464500  0.025564   0.448655   0.480344\n",
      "knapPI_3_2000_1000_1  ACO      0.492198  0.033116   0.471673   0.512724\n",
      "                      GA       0.887202  0.047710   0.857631   0.916772\n",
      "knapPI_3_200_1000_1   ACO      0.008498  0.000711   0.008058   0.008939\n",
      "                      GA       0.477501  0.031790   0.457797   0.497204\n",
      "knapPI_3_5000_1000_1  ACO      2.829695  0.129062   2.749701   2.909689\n",
      "                      GA       0.940205  0.069414   0.897181   0.983228\n",
      "knapPI_3_500_1000_1   ACO      0.042206  0.003490   0.040043   0.044369\n",
      "                      GA       0.655097  0.027141   0.638275   0.671919\n"
     ]
    }
   ],
   "source": [
    "print_stats(df_ks_large, 'execution_time')"
   ]
  },
  {
   "cell_type": "markdown",
   "metadata": {},
   "source": [
    "#### Param Eval GA"
   ]
  },
  {
   "cell_type": "code",
   "execution_count": 29,
   "metadata": {},
   "outputs": [],
   "source": [
    "df_ks_ga_eval['method'] = 'GA_1000_100'\n",
    "df_param_eval = pd.concat([df_ks_large, df_ks_ga_eval])"
   ]
  },
  {
   "cell_type": "code",
   "execution_count": 30,
   "metadata": {},
   "outputs": [
    {
     "data": {
      "application/vnd.jupyter.widget-view+json": {
       "model_id": "5627c5482ed74e9a94225d5c2f31ed32",
       "version_major": 2,
       "version_minor": 0
      },
      "text/plain": [
       "FigureWidget({\n",
       "    'data': [{'alignmentgroup': 'True',\n",
       "              'hoverlabel': {'namelength': 0},\n",
       "        …"
      ]
     },
     "metadata": {},
     "output_type": "display_data"
    }
   ],
   "source": [
    "fig = px.box(df_param_eval, x='instance', y='value', color='method')\n",
    "go.FigureWidget(fig)"
   ]
  },
  {
   "cell_type": "code",
   "execution_count": 31,
   "metadata": {},
   "outputs": [
    {
     "data": {
      "application/vnd.jupyter.widget-view+json": {
       "model_id": "9c120168febf4683af668dbeddf0ec58",
       "version_major": 2,
       "version_minor": 0
      },
      "text/plain": [
       "FigureWidget({\n",
       "    'data': [{'alignmentgroup': 'True',\n",
       "              'hoverlabel': {'namelength': 0},\n",
       "        …"
      ]
     },
     "metadata": {},
     "output_type": "display_data"
    }
   ],
   "source": [
    "fig = px.box(df_param_eval, x='instance', y='execution_time', color='method')\n",
    "go.FigureWidget(fig)"
   ]
  },
  {
   "cell_type": "code",
   "execution_count": 32,
   "metadata": {},
   "outputs": [
    {
     "name": "stdout",
     "output_type": "stream",
     "text": [
      "                                       mean          std        ci95_lo        ci95_hi\n",
      "instance              method                                                          \n",
      "knapPI_1_10000_1000_1 ACO          163655.3  8759.853741  158225.886401  169084.713599\n",
      "                      GA            11704.2  1309.861469   10892.339451   12516.060549\n",
      "                      GA_1000_100   89463.6  3812.122395   87100.822060   91826.377940\n",
      "knapPI_1_1000_1000_1  ACO           21864.6  1224.986911   21105.345246   22623.854754\n",
      "                      GA            10720.3   849.433151   10193.815879   11246.784121\n",
      "                      GA_1000_100   35257.0   683.636843   34833.277495   35680.722505\n",
      "knapPI_1_100_1000_1   ACO            7025.8   760.201114    6554.622468    7496.977532\n",
      "                      GA             4860.5   694.965107    4429.756164    5291.243836\n",
      "                      GA_1000_100    9105.6    87.278863    9051.504000    9159.696000\n",
      "knapPI_1_2000_1000_1  ACO           37427.5  3026.648871   35551.563594   39303.436406\n",
      "                      GA            12214.3  1201.157409   11469.814925   12958.785075\n",
      "                      GA_1000_100   50755.7  1501.708364   49824.931513   51686.468487\n",
      "knapPI_1_200_1000_1   ACO            7240.4   984.848798    6629.984391    7850.815609\n",
      "                      GA             4778.0   783.752654    4292.225072    5263.774928\n",
      "                      GA_1000_100   11075.1   128.983591   10995.155142   11155.044858\n",
      "knapPI_1_5000_1000_1  ACO           83847.7  2214.794450   82474.956178   85220.443822\n",
      "                      GA            11447.1  1176.541490   10717.872029   12176.327971\n",
      "                      GA_1000_100   72547.0  1867.307152   71389.631036   73704.368964\n",
      "knapPI_1_500_1000_1   ACO           14258.3  1544.724718   13300.869700   15215.730300\n",
      "                      GA             8042.1   589.987655    7676.421863    8407.778137\n",
      "                      GA_1000_100   24586.6   455.004811   24304.585097   24868.614903\n",
      "knapPI_2_10000_1000_1 ACO           52432.9   358.241833   52210.859411   52654.940589\n",
      "                      GA            12406.0  1421.114586   11525.184054   13286.815946\n",
      "                      GA_1000_100   53212.2   431.358526   52944.841216   53479.558784\n",
      "knapPI_2_1000_1000_1  ACO            5711.1   142.314558    5622.892523    5799.307477\n",
      "                      GA             5661.9    92.885174    5604.329173    5719.470827\n",
      "                      GA_1000_100    7483.5   123.926726    7406.689420    7560.310580\n",
      "knapPI_2_100_1000_1   ACO            1195.0    55.529772    1160.582291    1229.417709\n",
      "                      GA             1272.5    38.451268    1248.667657    1296.332343\n",
      "                      GA_1000_100    1513.8     0.421637    1513.538667    1514.061333\n",
      "...                                     ...          ...            ...            ...\n",
      "knapPI_2_200_1000_1   ACO            1230.1    42.414489    1203.811227    1256.388773\n",
      "                      GA             1336.4    36.676362    1313.667755    1359.132245\n",
      "                      GA_1000_100    1617.2    12.576875    1609.404772    1624.995228\n",
      "knapPI_2_5000_1000_1  ACO           26533.3   352.502183   26314.816884   26751.783116\n",
      "                      GA            13215.7  1379.965704   12360.388395   14071.011605\n",
      "                      GA_1000_100   28444.7   267.959802   28278.616794   28610.783206\n",
      "knapPI_2_500_1000_1   ACO            3001.9    44.262977    2974.465523    3029.334477\n",
      "                      GA             3095.3    44.329699    3067.824168    3122.775832\n",
      "                      GA_1000_100    4264.2    47.885976    4234.519965    4293.880035\n",
      "knapPI_3_10000_1000_1 ACO           62979.0   602.218122   62605.741341   63352.258659\n",
      "                      GA            15964.4  2051.470974   14692.885117   17235.914883\n",
      "                      GA_1000_100   60846.6   439.121902   60574.429426   61118.770574\n",
      "knapPI_3_1000_1000_1  ACO            6979.3   119.753497    6905.076014    7053.523986\n",
      "                      GA             6580.6   151.964323    6486.411537    6674.788463\n",
      "                      GA_1000_100   10614.3   245.374113   10462.215549   10766.384451\n",
      "knapPI_3_100_1000_1   ACO            1784.2   122.474306    1708.289639    1860.110361\n",
      "                      GA             1771.4    84.435643    1719.066246    1823.733754\n",
      "                      GA_1000_100    2383.5    31.872140    2363.745443    2403.254557\n",
      "knapPI_3_2000_1000_1  ACO           13248.5   279.265803   13075.409262   13421.590738\n",
      "                      GA            11720.8   277.139676   11549.027049   11892.572951\n",
      "                      GA_1000_100   16654.8   378.680105   16420.091639   16889.508361\n",
      "knapPI_3_200_1000_1   ACO            1834.0   181.931000    1721.237998    1946.762002\n",
      "                      GA             1788.5    73.177486    1743.144124    1833.855876\n",
      "                      GA_1000_100    2674.1    40.774311    2648.827820    2699.372180\n",
      "knapPI_3_5000_1000_1  ACO           31945.0   195.505044   31823.824718   32066.175282\n",
      "                      GA            15032.9  1087.560108   14358.823261   15706.976739\n",
      "                      GA_1000_100   33382.6   386.606662   33142.978708   33622.221292\n",
      "knapPI_3_500_1000_1   ACO            4004.5    99.176890    3943.029527    4065.970473\n",
      "                      GA             3765.3   108.359535    3698.138064    3832.461936\n",
      "                      GA_1000_100    6319.9   164.019274    6218.239801    6421.560199\n",
      "\n",
      "[63 rows x 4 columns]\n"
     ]
    }
   ],
   "source": [
    "print_stats(df_param_eval, 'value')"
   ]
  },
  {
   "cell_type": "code",
   "execution_count": 33,
   "metadata": {},
   "outputs": [
    {
     "name": "stdout",
     "output_type": "stream",
     "text": [
      "                                        mean       std    ci95_lo    ci95_hi\n",
      "instance              method                                                \n",
      "knapPI_1_10000_1000_1 ACO          20.500704  0.821411  19.991589  21.009820\n",
      "                      GA            0.435094  0.036537   0.412448   0.457740\n",
      "                      GA_1000_100  33.207398  2.604675  31.593003  34.821792\n",
      "knapPI_1_1000_1000_1  ACO           0.198798  0.010271   0.192432   0.205164\n",
      "                      GA            0.427804  0.021120   0.414714   0.440894\n",
      "                      GA_1000_100  22.129400  0.681958  21.706718  22.552082\n",
      "knapPI_1_100_1000_1   ACO           0.005598  0.001265   0.004814   0.006383\n",
      "                      GA            0.315200  0.018179   0.303932   0.326467\n",
      "                      GA_1000_100  11.180699  0.229366  11.038537  11.322862\n",
      "knapPI_1_2000_1000_1  ACO           0.745096  0.030271   0.726334   0.763859\n",
      "                      GA            0.440904  0.055015   0.406805   0.475003\n",
      "                      GA_1000_100  25.664400  0.844274  25.141114  26.187687\n",
      "knapPI_1_200_1000_1   ACO           0.011604  0.001350   0.010767   0.012441\n",
      "                      GA            0.312799  0.016157   0.302785   0.322814\n",
      "                      GA_1000_100  11.150002  0.453053  10.869196  11.430807\n",
      "knapPI_1_5000_1000_1  ACO           4.551605  0.140180   4.464721   4.638490\n",
      "                      GA            0.421597  0.021551   0.408240   0.434954\n",
      "                      GA_1000_100  29.611502  1.474356  28.697687  30.525317\n",
      "knapPI_1_500_1000_1   ACO           0.058796  0.006249   0.054923   0.062670\n",
      "                      GA            0.371601  0.018511   0.360128   0.383074\n",
      "                      GA_1000_100  18.599100  1.011739  17.972018  19.226182\n",
      "knapPI_2_10000_1000_1 ACO           9.294194  0.281590   9.119663   9.468726\n",
      "                      GA            0.904605  0.125758   0.826660   0.982551\n",
      "                      GA_1000_100  81.099700  4.987115  78.008654  84.190746\n",
      "knapPI_2_1000_1000_1  ACO           0.117600  0.004012   0.115114   0.120087\n",
      "                      GA            0.744999  0.048557   0.714903   0.775095\n",
      "                      GA_1000_100  33.812400  1.578354  32.834126  34.790674\n",
      "knapPI_2_100_1000_1   ACO           0.003096  0.000318   0.002899   0.003293\n",
      "                      GA            0.391402  0.006478   0.387387   0.395417\n",
      "                      GA_1000_100  16.840911  0.869685  16.301875  17.379948\n",
      "...                                      ...       ...        ...        ...\n",
      "knapPI_2_200_1000_1   ACO           0.006998  0.000817   0.006492   0.007504\n",
      "                      GA            0.402504  0.016108   0.392520   0.412488\n",
      "                      GA_1000_100  19.664300  3.864458  17.269085  22.059516\n",
      "knapPI_2_5000_1000_1  ACO           2.260003  0.057862   2.224139   2.295866\n",
      "                      GA            0.882699  0.084989   0.830023   0.935375\n",
      "                      GA_1000_100  66.895500  6.576599  62.819282  70.971718\n",
      "knapPI_2_500_1000_1   ACO           0.040797  0.024067   0.025880   0.055714\n",
      "                      GA            0.588201  0.040149   0.563316   0.613086\n",
      "                      GA_1000_100  27.888800  1.592013  26.902060  28.875540\n",
      "knapPI_3_10000_1000_1 ACO          11.486399  0.246186  11.333811  11.638986\n",
      "                      GA            0.997403  0.161254   0.897457   1.097349\n",
      "                      GA_1000_100  85.716702  8.295226  80.575267  90.858136\n",
      "knapPI_3_1000_1000_1  ACO           0.136895  0.007169   0.132452   0.141338\n",
      "                      GA            0.810805  0.040959   0.785419   0.836191\n",
      "                      GA_1000_100  62.923400  4.641076  60.046831  65.799969\n",
      "knapPI_3_100_1000_1   ACO           0.004202  0.000793   0.003711   0.004694\n",
      "                      GA            0.464500  0.025564   0.448655   0.480344\n",
      "                      GA_1000_100  48.218199  3.722843  45.910757  50.525641\n",
      "knapPI_3_2000_1000_1  ACO           0.492198  0.033116   0.471673   0.512724\n",
      "                      GA            0.887202  0.047710   0.857631   0.916772\n",
      "                      GA_1000_100  61.738702  6.304958  57.830849  65.646556\n",
      "knapPI_3_200_1000_1   ACO           0.008498  0.000711   0.008058   0.008939\n",
      "                      GA            0.477501  0.031790   0.457797   0.497204\n",
      "                      GA_1000_100  43.995805  4.279005  41.343650  46.647960\n",
      "knapPI_3_5000_1000_1  ACO           2.829695  0.129062   2.749701   2.909689\n",
      "                      GA            0.940205  0.069414   0.897181   0.983228\n",
      "                      GA_1000_100  76.860093  7.374954  72.289049  81.431137\n",
      "knapPI_3_500_1000_1   ACO           0.042206  0.003490   0.040043   0.044369\n",
      "                      GA            0.655097  0.027141   0.638275   0.671919\n",
      "                      GA_1000_100  51.599697  7.045961  47.232565  55.966829\n",
      "\n",
      "[63 rows x 4 columns]\n"
     ]
    }
   ],
   "source": [
    "print_stats(df_param_eval, 'execution_time')"
   ]
  },
  {
   "cell_type": "code",
   "execution_count": null,
   "metadata": {},
   "outputs": [],
   "source": []
  }
 ],
 "metadata": {
  "kernelspec": {
   "display_name": "Python 3",
   "language": "python",
   "name": "python3"
  },
  "language_info": {
   "codemirror_mode": {
    "name": "ipython",
    "version": 3
   },
   "file_extension": ".py",
   "mimetype": "text/x-python",
   "name": "python",
   "nbconvert_exporter": "python",
   "pygments_lexer": "ipython3",
   "version": "3.7.3"
  }
 },
 "nbformat": 4,
 "nbformat_minor": 4
}
